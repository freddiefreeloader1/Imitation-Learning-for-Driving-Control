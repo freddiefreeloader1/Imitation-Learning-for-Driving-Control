{
 "cells": [
  {
   "cell_type": "code",
   "execution_count": 30,
   "metadata": {},
   "outputs": [],
   "source": [
    "import torch\n",
    "import torch.nn as nn\n",
    "import torch.optim as optim\n",
    "from torch.utils.data import DataLoader, Dataset, TensorDataset \n",
    "from sklearn.model_selection import train_test_split\n",
    "from sklearn.preprocessing import StandardScaler\n",
    "\n",
    "import numpy as np\n",
    "import pandas as pd\n",
    "import matplotlib.pyplot as plt\n",
    "import json\n",
    "\n",
    "from tqdm import tqdm\n",
    "from IPython.display import clear_output\n",
    "\n",
    "import Model.my_model\n",
    "import importlib\n",
    "\n",
    "import yaml"
   ]
  },
  {
   "cell_type": "code",
   "execution_count": 31,
   "metadata": {},
   "outputs": [],
   "source": [
    "class TransformerModel(nn.Module):\n",
    "    def __init__(self, state_dim, action_dim, nhead, num_encoder_layers, num_decoder_layers, d_model, dim_feedforward):\n",
    "        super(TransformerModel, self).__init__()\n",
    "        self.state_dim = state_dim\n",
    "        self.action_dim = action_dim\n",
    "        \n",
    "        # Embedding layers for states and actions\n",
    "        self.state_embedding = nn.Linear(state_dim, d_model)\n",
    "        self.action_embedding = nn.Linear(action_dim, d_model)\n",
    "\n",
    "        # Transformer Encoder and Decoder\n",
    "        self.transformer = nn.Transformer(d_model=d_model, nhead=nhead, \n",
    "                                          num_encoder_layers=num_encoder_layers, \n",
    "                                          num_decoder_layers=num_decoder_layers,\n",
    "                                          dim_feedforward=dim_feedforward)\n",
    "\n",
    "        # Final output layer to predict the 5th action\n",
    "        self.fc_out = nn.Linear(d_model, action_dim)\n",
    "    \n",
    "    def forward(self, states, actions):\n",
    "        # Embed states and actions\n",
    "        state_embed = self.state_embedding(states)  # (batch_size, seq_length, d_model)\n",
    "        action_embed = self.action_embedding(actions)  # (batch_size, seq_length, d_model)\n",
    "\n",
    "        # Prepare input for transformer\n",
    "        state_embed = state_embed.permute(1, 0, 2)  # (seq_length, batch_size, d_model)\n",
    "        action_embed = action_embed.permute(1, 0, 2)  # (seq_length, batch_size, d_model)\n",
    "\n",
    "        # Forward pass through transformer\n",
    "        transformer_output = self.transformer(state_embed, action_embed)  # (seq_length, batch_size, d_model)\n",
    "\n",
    "        # Output the predicted 5th action (output of the last sequence step)\n",
    "        output = self.fc_out(transformer_output[-1, :, :])  # (batch_size, action_dim)\n",
    "        return output"
   ]
  },
  {
   "cell_type": "markdown",
   "metadata": {},
   "source": [
    "## Dataset\n",
    "We load the dataset and normalize the values"
   ]
  },
  {
   "cell_type": "code",
   "execution_count": 32,
   "metadata": {},
   "outputs": [],
   "source": [
    "class TrajectoryDataset(Dataset):\n",
    "    \n",
    "    def __init__(self, data, sequence_length=5, normalize=False):\n",
    "        self.data = data\n",
    "        self.sequence_length = sequence_length\n",
    "        \n",
    "        self.state_keys = ['s', 'e', 'dtheta', 'vx', 'vy', \"omega\"]\n",
    "        self.action_keys = ['throttle', 'steering']\n",
    "\n",
    "        self.raw_sequences = []  # To store state-action pairs\n",
    "        \n",
    "        for key, trajectory in self.data.items():\n",
    "            states = list(zip(*[trajectory[state_key] for state_key in self.state_keys]))\n",
    "            actions = list(zip(*[trajectory[action_key] for action_key in self.action_keys]))\n",
    "            \n",
    "            for i in range(len(states) - sequence_length):\n",
    "                # Get sequence of 5 states and 4 actions, then the 5th action as the target\n",
    "                state_sequence = states[i:i+sequence_length - 1]  # First 5 states\n",
    "                action_sequence = actions[i:i+sequence_length-1]  # First 4 actions\n",
    "                next_action = actions[i+sequence_length-1]  # 5th action as the target\n",
    "\n",
    "                # Append input (5 states, 4 actions) and output (5th action)\n",
    "                self.raw_sequences.append((state_sequence, action_sequence, next_action))\n",
    "\n",
    "        # Convert the sequences to arrays\n",
    "        self.sequences = np.array([seq[0] for seq in self.raw_sequences], dtype=np.float32)  # States\n",
    "        self.action_sequences = np.array([seq[1] for seq in self.raw_sequences], dtype=np.float32)  # Actions\n",
    "        self.next_actions = np.array([seq[2] for seq in self.raw_sequences], dtype=np.float32)  # Targets (5th action)\n",
    "\n",
    "        # Normalize if required\n",
    "        if normalize:\n",
    "            self.state_mean = self.sequences.mean(axis=(0, 1))\n",
    "            self.state_std = self.sequences.std(axis=(0, 1))\n",
    "            self.action_mean = self.action_sequences.mean(axis=(0, 1))\n",
    "            self.action_std = self.action_sequences.std(axis=(0, 1))\n",
    "\n",
    "            scaling_params = {\n",
    "                'mean': (self.state_mean.tolist(), self.action_mean.tolist()),\n",
    "                'std': (self.state_std.tolist(), self.action_std.tolist())\n",
    "            }\n",
    "\n",
    "            with open('./Model/scaling_params_transformer.json', 'w') as f:\n",
    "                json.dump(scaling_params, f)\n",
    "\n",
    "            # Normalize states and actions\n",
    "            self.sequences = (self.sequences - self.state_mean) / (self.state_std + 1e-8)\n",
    "            self.action_sequences = (self.action_sequences - self.action_mean) / (self.action_std + 1e-8)\n",
    "\n",
    "    def __len__(self):\n",
    "        return len(self.raw_sequences)\n",
    "\n",
    "    def __getitem__(self, idx):\n",
    "        states = torch.tensor(self.sequences[idx], dtype=torch.float32)  # Shape: (5, state_dim)\n",
    "        actions = torch.tensor(self.action_sequences[idx], dtype=torch.float32)  # Shape: (4, action_dim)\n",
    "        target_action = torch.tensor(self.next_actions[idx], dtype=torch.float32)  # Shape: (action_dim)\n",
    "        return states, actions, target_action\n"
   ]
  },
  {
   "cell_type": "code",
   "execution_count": 33,
   "metadata": {},
   "outputs": [
    {
     "name": "stderr",
     "output_type": "stream",
     "text": [
      "/tmp/ipykernel_31952/237958339.py:2: FutureWarning: DataFrame.applymap has been deprecated. Use DataFrame.map instead.\n",
      "  data = data.applymap(lambda x: x.tolist() if isinstance(x, np.ndarray) else x)\n"
     ]
    }
   ],
   "source": [
    "data = pd.read_feather('Obtained Model Data/noisy_trajectories.feather')\n",
    "data = data.applymap(lambda x: x.tolist() if isinstance(x, np.ndarray) else x)\n",
    "data = data.to_dict()"
   ]
  },
  {
   "cell_type": "code",
   "execution_count": 34,
   "metadata": {},
   "outputs": [],
   "source": [
    "\n",
    "from torch.utils.data import random_split\n",
    "\n",
    "dataset = TrajectoryDataset(data, sequence_length=5, normalize=False)\n",
    "\n",
    "train_size = int(0.7 * len(dataset))\n",
    "test_size = len(dataset) - train_size\n",
    "\n",
    "train_dataset, test_dataset = random_split(dataset, [train_size, test_size])\n",
    "\n",
    "train_loader = DataLoader(train_dataset, batch_size=64, shuffle=True)\n",
    "test_loader = DataLoader(test_dataset, batch_size=64, shuffle=False)"
   ]
  },
  {
   "cell_type": "markdown",
   "metadata": {},
   "source": [
    "## Model\n",
    "Pytorch model and the hyperparameters used for training"
   ]
  },
  {
   "cell_type": "code",
   "execution_count": 35,
   "metadata": {},
   "outputs": [
    {
     "name": "stdout",
     "output_type": "stream",
     "text": [
      "Device used :  cpu\n"
     ]
    },
    {
     "name": "stderr",
     "output_type": "stream",
     "text": [
      "/home/la-user/.local/lib/python3.10/site-packages/torch/nn/modules/transformer.py:286: UserWarning: enable_nested_tensor is True, but self.use_nested_tensor is False because encoder_layer.self_attn.batch_first was not True(use batch_first for better inference performance)\n",
      "  warnings.warn(f\"enable_nested_tensor is True, but self.use_nested_tensor is False because {why_not_sparsity_fast_path}\")\n"
     ]
    }
   ],
   "source": [
    "state_dim = 6\n",
    "action_dim = 2\n",
    "\n",
    "model = TransformerModel(state_dim= state_dim, action_dim=action_dim, \n",
    "                         d_model=64, nhead=4, num_encoder_layers=1, \n",
    "                         num_decoder_layers=1, dim_feedforward=128)\n",
    "\n",
    "criterion = nn.HuberLoss(delta = 0.75)\n",
    "\n",
    "device = torch.device(\"cuda\" if torch.cuda.is_available() else \"cpu\")\n",
    "print(\"Device used : \", device)\n",
    "\n",
    "model.to(device)\n",
    "criterion.to(device)\n",
    "\n",
    "num_epochs = 10\n",
    "\n",
    "optimizer = optim.AdamW(model.parameters(), lr=0.0005, weight_decay=1e-6)\n",
    "scheduler = optim.lr_scheduler.ReduceLROnPlateau(optimizer, mode='min', factor=0.5, patience=8)"
   ]
  },
  {
   "cell_type": "markdown",
   "metadata": {},
   "source": [
    "## Training loop"
   ]
  },
  {
   "cell_type": "code",
   "execution_count": 36,
   "metadata": {},
   "outputs": [
    {
     "name": "stderr",
     "output_type": "stream",
     "text": [
      "Epoch 1/10: 100%|██████████| 2698/2698 [00:19<00:00, 135.95it/s]\n"
     ]
    },
    {
     "name": "stdout",
     "output_type": "stream",
     "text": [
      "Epoch 1/10, Train Loss: 0.05470\n",
      "  Test Loss: 0.05180\n"
     ]
    },
    {
     "name": "stderr",
     "output_type": "stream",
     "text": [
      "Epoch 2/10: 100%|██████████| 2698/2698 [00:19<00:00, 135.60it/s]\n"
     ]
    },
    {
     "name": "stdout",
     "output_type": "stream",
     "text": [
      "Epoch 2/10, Train Loss: 0.05229\n",
      "  Test Loss: 0.05178\n"
     ]
    },
    {
     "name": "stderr",
     "output_type": "stream",
     "text": [
      "Epoch 3/10: 100%|██████████| 2698/2698 [00:18<00:00, 144.98it/s]\n"
     ]
    },
    {
     "name": "stdout",
     "output_type": "stream",
     "text": [
      "Epoch 3/10, Train Loss: 0.05201\n",
      "  Test Loss: 0.05166\n"
     ]
    },
    {
     "name": "stderr",
     "output_type": "stream",
     "text": [
      "Epoch 4/10: 100%|██████████| 2698/2698 [00:18<00:00, 143.66it/s]\n"
     ]
    },
    {
     "name": "stdout",
     "output_type": "stream",
     "text": [
      "Epoch 4/10, Train Loss: 0.05189\n",
      "  Test Loss: 0.05166\n"
     ]
    },
    {
     "name": "stderr",
     "output_type": "stream",
     "text": [
      "Epoch 5/10: 100%|██████████| 2698/2698 [00:18<00:00, 147.00it/s]\n"
     ]
    },
    {
     "name": "stdout",
     "output_type": "stream",
     "text": [
      "Epoch 5/10, Train Loss: 0.05186\n",
      "  Test Loss: 0.05159\n"
     ]
    },
    {
     "name": "stderr",
     "output_type": "stream",
     "text": [
      "Epoch 6/10: 100%|██████████| 2698/2698 [00:18<00:00, 149.80it/s]\n"
     ]
    },
    {
     "name": "stdout",
     "output_type": "stream",
     "text": [
      "Epoch 6/10, Train Loss: 0.05180\n",
      "  Test Loss: 0.05153\n"
     ]
    },
    {
     "name": "stderr",
     "output_type": "stream",
     "text": [
      "Epoch 7/10: 100%|██████████| 2698/2698 [00:19<00:00, 140.23it/s]\n"
     ]
    },
    {
     "name": "stdout",
     "output_type": "stream",
     "text": [
      "Epoch 7/10, Train Loss: 0.05178\n",
      "  Test Loss: 0.05144\n"
     ]
    },
    {
     "name": "stderr",
     "output_type": "stream",
     "text": [
      "Epoch 8/10: 100%|██████████| 2698/2698 [00:17<00:00, 150.25it/s]\n"
     ]
    },
    {
     "name": "stdout",
     "output_type": "stream",
     "text": [
      "Epoch 8/10, Train Loss: 0.05175\n",
      "  Test Loss: 0.05198\n"
     ]
    },
    {
     "name": "stderr",
     "output_type": "stream",
     "text": [
      "Epoch 9/10: 100%|██████████| 2698/2698 [00:17<00:00, 151.67it/s]\n"
     ]
    },
    {
     "name": "stdout",
     "output_type": "stream",
     "text": [
      "Epoch 9/10, Train Loss: 0.05173\n",
      "  Test Loss: 0.05159\n"
     ]
    },
    {
     "name": "stderr",
     "output_type": "stream",
     "text": [
      "Epoch 10/10: 100%|██████████| 2698/2698 [00:18<00:00, 145.08it/s]\n"
     ]
    },
    {
     "name": "stdout",
     "output_type": "stream",
     "text": [
      "Epoch 10/10, Train Loss: 0.05172\n",
      "  Test Loss: 0.05142\n"
     ]
    }
   ],
   "source": [
    "train_losses = []\n",
    "test_losses = []\n",
    "best_test_loss = np.inf\n",
    "early_stopping_patience = 10\n",
    "\n",
    "\n",
    "for epoch in range(num_epochs):\n",
    "    model.train()\n",
    "    \n",
    "    train_loss = 0\n",
    "    with tqdm(train_loader, desc=f\"Epoch {epoch + 1}/{num_epochs}\") as pbar:\n",
    "        for batch in pbar:\n",
    "            state_trajectories = batch[0].to(device) \n",
    "            \n",
    "            input_actions = batch[1].to(device)\n",
    "         \n",
    "            target_action = batch[2].to(device)  \n",
    "            \n",
    "            optimizer.zero_grad()\n",
    "        \n",
    "            outputs = model(state_trajectories, input_actions)\n",
    "        \n",
    "            loss = criterion(outputs, target_action)\n",
    "            \n",
    "            loss.backward()\n",
    "            optimizer.step()\n",
    "            train_loss += loss.item()\n",
    "    \n",
    "    avg_train_loss = train_loss / len(train_loader)\n",
    "    train_losses.append(avg_train_loss)\n",
    "    \n",
    "    print(f'Epoch {epoch + 1}/{num_epochs}, Train Loss: {avg_train_loss:.5f}')\n",
    "    \n",
    "    model.eval()\n",
    "    total_loss = 0\n",
    "    with torch.no_grad():\n",
    "        for batch in test_loader:\n",
    "            state_trajectories = batch[0].to(device)\n",
    "            input_actions = batch[1].to(device)\n",
    "            target_action = batch[2].to(device)\n",
    "            \n",
    "            outputs = model(state_trajectories, input_actions)\n",
    "            \n",
    "            loss = criterion(outputs, target_action)\n",
    "            total_loss += loss.item()\n",
    "    \n",
    "    avg_test_loss = total_loss / len(test_loader)\n",
    "    test_losses.append(avg_test_loss)\n",
    "    \n",
    "    scheduler.step(avg_test_loss)\n",
    "\n",
    "    print(f'  Test Loss: {avg_test_loss:.5f}')\n",
    "    \n",
    "    if avg_test_loss < best_test_loss:\n",
    "        best_test_loss = avg_test_loss\n",
    "        patience_counter = 0\n",
    "        torch.save(model.state_dict(), './Model/model_transformer.pth')\n",
    "    else:\n",
    "        patience_counter += 1\n",
    "\n",
    "    if patience_counter >= early_stopping_patience:\n",
    "        print(\"Early stopping triggered\")\n",
    "        break\n"
   ]
  },
  {
   "cell_type": "code",
   "execution_count": 37,
   "metadata": {},
   "outputs": [
    {
     "data": {
      "image/png": "[encoded data removed]",
      "text/plain": [
       "<Figure size 576x360 with 1 Axes>"
      ]
     },
     "metadata": {
      "needs_background": "light"
     },
     "output_type": "display_data"
    }
   ],
   "source": [
    "    plt.close(\"all\")\n",
    "    plt.figure(figsize=(8, 5))\n",
    "    plt.plot(np.log(range(1, epoch+2)), np.log(train_losses), label='Training Loss')\n",
    "    plt.plot(np.log(range(1, epoch+2)), np.log(test_losses), label='Test Loss')\n",
    "    plt.xlabel('log(Epoch)')\n",
    "    plt.ylabel('log(Loss)')\n",
    "    plt.title('Training and Test Loss over Epochs - log scale')\n",
    "    plt.legend()\n",
    "    plt.show()\n",
    "    plt.pause(0.001)"
   ]
  },
  {
   "cell_type": "code",
   "execution_count": 38,
   "metadata": {},
   "outputs": [
    {
     "ename": "RuntimeError",
     "evalue": "Error(s) in loading state_dict for TransformerModel:\n\tMissing key(s) in state_dict: \"transformer.decoder.layers.0.self_attn.in_proj_weight\", \"transformer.decoder.layers.0.self_attn.in_proj_bias\", \"transformer.decoder.layers.0.self_attn.out_proj.weight\", \"transformer.decoder.layers.0.self_attn.out_proj.bias\", \"transformer.decoder.layers.0.multihead_attn.in_proj_weight\", \"transformer.decoder.layers.0.multihead_attn.in_proj_bias\", \"transformer.decoder.layers.0.multihead_attn.out_proj.weight\", \"transformer.decoder.layers.0.multihead_attn.out_proj.bias\", \"transformer.decoder.layers.0.linear1.weight\", \"transformer.decoder.layers.0.linear1.bias\", \"transformer.decoder.layers.0.linear2.weight\", \"transformer.decoder.layers.0.linear2.bias\", \"transformer.decoder.layers.0.norm1.weight\", \"transformer.decoder.layers.0.norm1.bias\", \"transformer.decoder.layers.0.norm2.weight\", \"transformer.decoder.layers.0.norm2.bias\", \"transformer.decoder.layers.0.norm3.weight\", \"transformer.decoder.layers.0.norm3.bias\". \n\tsize mismatch for state_embedding.weight: copying a param with shape torch.Size([64, 5]) from checkpoint, the shape in current model is torch.Size([64, 6]).",
     "output_type": "error",
     "traceback": [
      "\u001b[0;31m---------------------------------------------------------------------------\u001b[0m",
      "\u001b[0;31mRuntimeError\u001b[0m                              Traceback (most recent call last)",
      "\u001b[0;32m/tmp/ipykernel_31952/567145152.py\u001b[0m in \u001b[0;36m<module>\u001b[0;34m\u001b[0m\n\u001b[1;32m      1\u001b[0m \u001b[0;31m# load the model and test it\u001b[0m\u001b[0;34m\u001b[0m\u001b[0;34m\u001b[0m\u001b[0m\n\u001b[0;32m----> 2\u001b[0;31m \u001b[0mmodel\u001b[0m\u001b[0;34m.\u001b[0m\u001b[0mload_state_dict\u001b[0m\u001b[0;34m(\u001b[0m\u001b[0mtorch\u001b[0m\u001b[0;34m.\u001b[0m\u001b[0mload\u001b[0m\u001b[0;34m(\u001b[0m\u001b[0;34m'./Model/model_4.pth'\u001b[0m\u001b[0;34m)\u001b[0m\u001b[0;34m)\u001b[0m\u001b[0;34m\u001b[0m\u001b[0;34m\u001b[0m\u001b[0m\n\u001b[0m\u001b[1;32m      3\u001b[0m \u001b[0mmodel\u001b[0m\u001b[0;34m.\u001b[0m\u001b[0meval\u001b[0m\u001b[0;34m(\u001b[0m\u001b[0;34m)\u001b[0m\u001b[0;34m\u001b[0m\u001b[0;34m\u001b[0m\u001b[0m\n\u001b[1;32m      4\u001b[0m \u001b[0;34m\u001b[0m\u001b[0m\n\u001b[1;32m      5\u001b[0m \u001b[0mtest_loss\u001b[0m \u001b[0;34m=\u001b[0m \u001b[0;36m0\u001b[0m\u001b[0;34m\u001b[0m\u001b[0;34m\u001b[0m\u001b[0m\n",
      "\u001b[0;32m~/.local/lib/python3.10/site-packages/torch/nn/modules/module.py\u001b[0m in \u001b[0;36mload_state_dict\u001b[0;34m(self, state_dict, strict, assign)\u001b[0m\n\u001b[1;32m   2151\u001b[0m \u001b[0;34m\u001b[0m\u001b[0m\n\u001b[1;32m   2152\u001b[0m         \u001b[0;32mif\u001b[0m \u001b[0mlen\u001b[0m\u001b[0;34m(\u001b[0m\u001b[0merror_msgs\u001b[0m\u001b[0;34m)\u001b[0m \u001b[0;34m>\u001b[0m \u001b[0;36m0\u001b[0m\u001b[0;34m:\u001b[0m\u001b[0;34m\u001b[0m\u001b[0;34m\u001b[0m\u001b[0m\n\u001b[0;32m-> 2153\u001b[0;31m             raise RuntimeError('Error(s) in loading state_dict for {}:\\n\\t{}'.format(\n\u001b[0m\u001b[1;32m   2154\u001b[0m                                self.__class__.__name__, \"\\n\\t\".join(error_msgs)))\n\u001b[1;32m   2155\u001b[0m         \u001b[0;32mreturn\u001b[0m \u001b[0m_IncompatibleKeys\u001b[0m\u001b[0;34m(\u001b[0m\u001b[0mmissing_keys\u001b[0m\u001b[0;34m,\u001b[0m \u001b[0munexpected_keys\u001b[0m\u001b[0;34m)\u001b[0m\u001b[0;34m\u001b[0m\u001b[0;34m\u001b[0m\u001b[0m\n",
      "\u001b[0;31mRuntimeError\u001b[0m: Error(s) in loading state_dict for TransformerModel:\n\tMissing key(s) in state_dict: \"transformer.decoder.layers.0.self_attn.in_proj_weight\", \"transformer.decoder.layers.0.self_attn.in_proj_bias\", \"transformer.decoder.layers.0.self_attn.out_proj.weight\", \"transformer.decoder.layers.0.self_attn.out_proj.bias\", \"transformer.decoder.layers.0.multihead_attn.in_proj_weight\", \"transformer.decoder.layers.0.multihead_attn.in_proj_bias\", \"transformer.decoder.layers.0.multihead_attn.out_proj.weight\", \"transformer.decoder.layers.0.multihead_attn.out_proj.bias\", \"transformer.decoder.layers.0.linear1.weight\", \"transformer.decoder.layers.0.linear1.bias\", \"transformer.decoder.layers.0.linear2.weight\", \"transformer.decoder.layers.0.linear2.bias\", \"transformer.decoder.layers.0.norm1.weight\", \"transformer.decoder.layers.0.norm1.bias\", \"transformer.decoder.layers.0.norm2.weight\", \"transformer.decoder.layers.0.norm2.bias\", \"transformer.decoder.layers.0.norm3.weight\", \"transformer.decoder.layers.0.norm3.bias\". \n\tsize mismatch for state_embedding.weight: copying a param with shape torch.Size([64, 5]) from checkpoint, the shape in current model is torch.Size([64, 6])."
     ]
    }
   ],
   "source": [
    "# load the model and test it\n",
    "model.load_state_dict(torch.load('./Model/model_4.pth'))\n",
    "model.eval()\n",
    "\n",
    "test_loss = 0\n",
    "with torch.no_grad():\n",
    "    for batch in test_loader:\n",
    "        state_trajectories = batch[0].to(device)\n",
    "        input_actions = batch[1].to(device)\n",
    "        target_action = batch[2].to(device)\n",
    "\n",
    "        outputs = model(state_trajectories, input_actions)\n",
    "\n",
    "        loss = criterion(outputs, target_action)\n",
    "        test_loss += loss.item()\n",
    "\n",
    "avg_test_loss = test_loss / len(test_loader)\n",
    "print(f'Final Test Loss: {avg_test_loss:.5f}')\n",
    "\n"
   ]
  }
 ],
 "metadata": {
  "kernelspec": {
   "display_name": "usr",
   "language": "python",
   "name": "python3"
  },
  "language_info": {
   "codemirror_mode": {
    "name": "ipython",
    "version": 3
   },
   "file_extension": ".py",
   "mimetype": "text/x-python",
   "name": "python",
   "nbconvert_exporter": "python",
   "pygments_lexer": "ipython3",
   "version": "3.10.12"
  }
 },
 "nbformat": 4,
 "nbformat_minor": 2
}
