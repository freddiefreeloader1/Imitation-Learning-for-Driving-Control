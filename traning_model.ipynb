{
 "cells": [
  {
   "cell_type": "code",
   "execution_count": 1,
   "metadata": {},
   "outputs": [],
   "source": [
    "import torch\n",
    "import torch.nn as nn\n",
    "import torch.optim as optim\n",
    "from torch.utils.data import DataLoader, Dataset, TensorDataset \n",
    "from sklearn.model_selection import train_test_split\n",
    "from sklearn.preprocessing import StandardScaler\n",
    "\n",
    "import numpy as np\n",
    "import pandas as pd\n",
    "import matplotlib.pyplot as plt\n",
    "import json\n",
    "\n",
    "from tqdm import tqdm\n",
    "from IPython.display import clear_output\n",
    "\n",
    "import Model.my_model\n",
    "import importlib\n",
    "\n",
    "import yaml"
   ]
  },
  {
   "cell_type": "markdown",
   "metadata": {},
   "source": [
    "## Dataset\n",
    "We load the dataset and normalize the values"
   ]
  },
  {
   "cell_type": "code",
   "execution_count": 2,
   "metadata": {},
   "outputs": [],
   "source": [
    "class TrajectoryDataset(Dataset):\n",
    "    \n",
    "    def __init__(self, data, normalize=True):\n",
    "        self.data = data\n",
    "\n",
    "        self.state_keys = ['s', 'e', 'dtheta', 'vx', 'vy']\n",
    "        self.action_keys = ['throttle', 'steering']\n",
    "\n",
    "        self.raw_states = []\n",
    "        self.raw_actions = []\n",
    "\n",
    "        for key, trajectory in self.data.items():\n",
    "            states = list(zip(*[trajectory[state_key] for state_key in self.state_keys]))\n",
    "            actions = list(zip(*[trajectory[action_key] for action_key in self.action_keys]))\n",
    "\n",
    "            self.raw_states.extend(states)\n",
    "            self.raw_actions.extend(actions)\n",
    "\n",
    "        self.states = np.array(self.raw_states)\n",
    "        self.actions = np.array(self.raw_actions)\n",
    "\n",
    "        if normalize:\n",
    "            self.state_mean = self.states.mean(axis=0)\n",
    "            self.state_std = self.states.std(axis=0)\n",
    "            self.action_mean = self.actions.mean(axis=0)\n",
    "            self.action_std = self.actions.std(axis=0)\n",
    "\n",
    "            scaling_params = {\n",
    "                'mean': (self.state_mean.tolist(), self.action_mean.tolist()),\n",
    "                'std': (self.state_std.tolist(), self.action_std.tolist())\n",
    "            }\n",
    "\n",
    "            with open('./Model/scaling_params_noisy_11.json', 'w') as f:\n",
    "                json.dump(scaling_params, f)\n",
    "\n",
    "            self.states = (self.states - self.state_mean) / (self.state_std + 1e-8)\n",
    "            self.actions = (self.actions - self.action_mean) / (self.action_std + 1e-8)\n",
    "\n",
    "        self.trajectories = list(zip(self.states, self.actions)) \n",
    "\n",
    "    def __len__(self):\n",
    "        return len(self.trajectories)\n",
    "\n",
    "    def __getitem__(self, idx):\n",
    "        states, actions = self.trajectories[idx]\n",
    "        return torch.tensor(states, dtype=torch.float32), torch.tensor(actions, dtype=torch.float32)\n",
    "\n",
    "    def denormalize(self, normalized_states, normalized_actions):\n",
    "        states = normalized_states * self.state_std + self.state_mean\n",
    "        actions = normalized_actions * self.action_std + self.action_mean\n",
    "        return states, actions\n"
   ]
  },
  {
   "cell_type": "code",
   "execution_count": 3,
   "metadata": {},
   "outputs": [],
   "source": [
    "with open('noisy_trajectories.yaml', 'r') as f:\n",
    "    data = yaml.safe_load(f)"
   ]
  },
  {
   "cell_type": "code",
   "execution_count": 4,
   "metadata": {},
   "outputs": [],
   "source": [
    "filtered_data = {key: value for key, value in data.items() if 's' in value and len(value['s']) > 1000}\n",
    "            \n",
    "dataset = TrajectoryDataset(filtered_data)\n",
    "\n",
    "dataloader = DataLoader(dataset, batch_size=32, shuffle=True)\n"
   ]
  },
  {
   "cell_type": "code",
   "execution_count": 5,
   "metadata": {},
   "outputs": [],
   "source": [
    "states = dataset.states  \n",
    "actions = dataset.actions\n",
    "\n",
    "X_train, X_test, y_train, y_test = train_test_split(\n",
    "    states, actions, test_size=0.3, random_state=42\n",
    ")\n",
    "\n",
    "train_dataset = TensorDataset(torch.tensor(X_train, dtype=torch.float32), \n",
    "                              torch.tensor(y_train, dtype=torch.float32))\n",
    "                              \n",
    "test_dataset = TensorDataset(torch.tensor(X_test, dtype=torch.float32), \n",
    "                             torch.tensor(y_test, dtype=torch.float32))\n",
    "\n",
    "train_loader = DataLoader(train_dataset, batch_size=32, shuffle=True)\n",
    "test_loader = DataLoader(test_dataset, batch_size=32, shuffle=False)"
   ]
  },
  {
   "cell_type": "markdown",
   "metadata": {},
   "source": [
    "## Model\n",
    "Pytorch model and the hyperparameters used for training"
   ]
  },
  {
   "cell_type": "code",
   "execution_count": 6,
   "metadata": {},
   "outputs": [],
   "source": [
    "importlib.reload(Model.my_model)\n",
    "from Model.my_model import SimpleNet"
   ]
  },
  {
   "cell_type": "code",
   "execution_count": 7,
   "metadata": {},
   "outputs": [
    {
     "name": "stdout",
     "output_type": "stream",
     "text": [
      "Device used :  cpu\n"
     ]
    }
   ],
   "source": [
    "model = SimpleNet(input_size=5, hidden_size=64, output_size=2)\n",
    "\n",
    "criterion = nn.HuberLoss(delta = 0.75)\n",
    "\n",
    "device = torch.device(\"cuda\" if torch.cuda.is_available() else \"cpu\")\n",
    "print(\"Device used : \", device)\n",
    "\n",
    "model.to(device)\n",
    "criterion.to(device)\n",
    "\n",
    "num_epochs = 500\n",
    "\n",
    "optimizer = optim.Adam(model.parameters(), lr=0.0005, weight_decay=1e-6)\n",
    "scheduler = optim.lr_scheduler.ReduceLROnPlateau(optimizer, mode='min', factor=0.5, patience=8)"
   ]
  },
  {
   "cell_type": "markdown",
   "metadata": {},
   "source": [
    "## Training loop"
   ]
  },
  {
   "cell_type": "code",
   "execution_count": 8,
   "metadata": {},
   "outputs": [
    {
     "name": "stdout",
     "output_type": "stream",
     "text": [
      "Epoch 282/500, Train Loss: 0.05382\n",
      "Test Loss: 0.05490\n"
     ]
    },
    {
     "data": {
      "image/png": "[encoded data removed]",
      "text/plain": [
       "<Figure size 576x360 with 1 Axes>"
      ]
     },
     "metadata": {
      "needs_background": "light"
     },
     "output_type": "display_data"
    },
    {
     "name": "stdout",
     "output_type": "stream",
     "text": [
      "Early stopping triggered\n"
     ]
    }
   ],
   "source": [
    "%matplotlib inline\n",
    "\n",
    "train_losses = []\n",
    "test_losses = []\n",
    "best_test_loss = float('inf')\n",
    "\n",
    "early_stopping_patience = 20\n",
    "patience_counter = 0\n",
    "\n",
    "\n",
    "for epoch in range(num_epochs):\n",
    "    model.train()\n",
    "\n",
    "    train_loss = 0\n",
    "    with tqdm(train_loader, desc=f\"Epoch {epoch + 1}/{num_epochs}\") as pbar:\n",
    "        model.train()\n",
    "        for batch_x, batch_y in pbar:\n",
    "            batch_x, batch_y = batch_x.to(device), batch_y.to(device) \n",
    "\n",
    "            optimizer.zero_grad() \n",
    "            outputs = model(batch_x)\n",
    "            loss = criterion(outputs, batch_y)\n",
    "            loss.backward()\n",
    "            optimizer.step()\n",
    "            \n",
    "            train_loss += loss.item()\n",
    "    \n",
    "    avg_train_loss = train_loss / len(train_loader)\n",
    "    train_losses.append(avg_train_loss)\n",
    "\n",
    "    clear_output(wait=True)\n",
    "    print(f'Epoch {epoch + 1}/{num_epochs}, Train Loss: {avg_train_loss:.5f}')\n",
    "        \n",
    "    model.eval()\n",
    "    total_loss = 0\n",
    "    \n",
    "    with torch.no_grad():\n",
    "        for batch_x, batch_y in test_loader:\n",
    "            batch_x, batch_y = batch_x.to(device), batch_y.to(device)\n",
    "            outputs = model(batch_x)\n",
    "            loss = criterion(outputs, batch_y)\n",
    "            total_loss += loss.item()\n",
    "    \n",
    "    avg_test_loss = total_loss / len(test_loader)\n",
    "    test_losses.append(avg_test_loss)\n",
    "\n",
    "    scheduler.step(avg_test_loss)\n",
    "\n",
    "    print(f'Test Loss: {avg_test_loss:.5f}')\n",
    "\n",
    "    if avg_test_loss < best_test_loss:\n",
    "        best_test_loss = avg_test_loss\n",
    "        patience_counter = 0\n",
    "        torch.save(model.state_dict(), './Model/model_noisy_11_64.pth')\n",
    "    else:\n",
    "        patience_counter += 1\n",
    "\n",
    "\n",
    "    plt.close(\"all\")\n",
    "    plt.figure(figsize=(8, 5))\n",
    "    plt.plot(range(1, epoch+2), train_losses, label='Training Loss')\n",
    "    plt.plot(range(1, epoch+2), test_losses, label='Test Loss')\n",
    "    plt.xlabel('Epoch')\n",
    "    plt.ylabel('Loss')\n",
    "    plt.title('Training and Test Loss over Epochs')\n",
    "    plt.legend()\n",
    "    plt.show()\n",
    "    plt.pause(0.001)\n",
    "\n",
    "    if patience_counter >= early_stopping_patience:\n",
    "        print(\"Early stopping triggered\")\n",
    "        break\n"
   ]
  },
  {
   "cell_type": "code",
   "execution_count": 9,
   "metadata": {},
   "outputs": [
    {
     "data": {
      "image/png": "[encoded data removed]",
      "text/plain": [
       "<Figure size 576x360 with 1 Axes>"
      ]
     },
     "metadata": {
      "needs_background": "light"
     },
     "output_type": "display_data"
    }
   ],
   "source": [
    "    plt.close(\"all\")\n",
    "    plt.figure(figsize=(8, 5))\n",
    "    plt.plot(np.log(range(1, epoch+2)), np.log(train_losses), label='Training Loss')\n",
    "    plt.plot(np.log(range(1, epoch+2)), np.log(test_losses), label='Test Loss')\n",
    "    plt.xlabel('log(Epoch)')\n",
    "    plt.ylabel('log(Loss)')\n",
    "    plt.title('Training and Test Loss over Epochs - log scale')\n",
    "    plt.legend()\n",
    "    plt.show()\n",
    "    plt.pause(0.001)"
   ]
  },
  {
   "cell_type": "code",
   "execution_count": null,
   "metadata": {},
   "outputs": [],
   "source": []
  }
 ],
 "metadata": {
  "kernelspec": {
   "display_name": "usr",
   "language": "python",
   "name": "python3"
  },
  "language_info": {
   "codemirror_mode": {
    "name": "ipython",
    "version": 3
   },
   "file_extension": ".py",
   "mimetype": "text/x-python",
   "name": "python",
   "nbconvert_exporter": "python",
   "pygments_lexer": "ipython3",
   "version": "3.10.12"
  }
 },
 "nbformat": 4,
 "nbformat_minor": 2
}
